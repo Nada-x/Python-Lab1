{
 "cells": [
  {
   "cell_type": "code",
   "execution_count": null,
   "id": "d5d96678-95e4-4b98-a54c-7eddcc648bc5",
   "metadata": {},
   "outputs": [],
   "source": [
    "favorite_season = \"winter\"\n",
    "x=12\n",
    "y=5.11\n",
    "a=b=c=6\n",
    "a,b,c = 1,2,3\n"
   ]
  }
 ],
 "metadata": {
  "kernelspec": {
   "display_name": "Python 3 (ipykernel)",
   "language": "python",
   "name": "python3"
  },
  "language_info": {
   "codemirror_mode": {
    "name": "ipython",
    "version": 3
   },
   "file_extension": ".py",
   "mimetype": "text/x-python",
   "name": "python",
   "nbconvert_exporter": "python",
   "pygments_lexer": "ipython3",
   "version": "3.11.4"
  }
 },
 "nbformat": 4,
 "nbformat_minor": 5
}
